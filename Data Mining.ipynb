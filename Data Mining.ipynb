{
 "cells": [
  {
   "cell_type": "code",
   "execution_count": 1,
   "id": "a3c91ef8",
   "metadata": {},
   "outputs": [],
   "source": [
    "import pandas as pd\n",
    "import numpy as np\n",
    "import matplotlib.pyplot as plt\n",
    "import seaborn as sns"
   ]
  },
  {
   "cell_type": "code",
   "execution_count": 2,
   "id": "5813b999",
   "metadata": {},
   "outputs": [],
   "source": [
    "health_data = pd.read_csv(\"HealthScores (1).csv\")"
   ]
  },
  {
   "cell_type": "code",
   "execution_count": 3,
   "id": "de56268e",
   "metadata": {},
   "outputs": [
    {
     "data": {
      "text/html": [
       "<div>\n",
       "<style scoped>\n",
       "    .dataframe tbody tr th:only-of-type {\n",
       "        vertical-align: middle;\n",
       "    }\n",
       "\n",
       "    .dataframe tbody tr th {\n",
       "        vertical-align: top;\n",
       "    }\n",
       "\n",
       "    .dataframe thead th {\n",
       "        text-align: right;\n",
       "    }\n",
       "</style>\n",
       "<table border=\"1\" class=\"dataframe\">\n",
       "  <thead>\n",
       "    <tr style=\"text-align: right;\">\n",
       "      <th></th>\n",
       "      <th>Age</th>\n",
       "      <th>Sex</th>\n",
       "      <th>Weight  in lbs</th>\n",
       "      <th>Height in Inch</th>\n",
       "      <th>IQ</th>\n",
       "      <th>Units of alcohol per day</th>\n",
       "      <th>Cigarettes per day</th>\n",
       "      <th>Marital Status</th>\n",
       "      <th>Additional People in household</th>\n",
       "      <th>Salary</th>\n",
       "      <th>Active</th>\n",
       "      <th>Health Score (high is good)</th>\n",
       "    </tr>\n",
       "  </thead>\n",
       "  <tbody>\n",
       "    <tr>\n",
       "      <th>0</th>\n",
       "      <td>58</td>\n",
       "      <td>Female</td>\n",
       "      <td>120</td>\n",
       "      <td>62</td>\n",
       "      <td>103</td>\n",
       "      <td>0</td>\n",
       "      <td>0</td>\n",
       "      <td>Divorced</td>\n",
       "      <td>2</td>\n",
       "      <td>56588</td>\n",
       "      <td>Inactive</td>\n",
       "      <td>150</td>\n",
       "    </tr>\n",
       "    <tr>\n",
       "      <th>1</th>\n",
       "      <td>45</td>\n",
       "      <td>Female</td>\n",
       "      <td>106</td>\n",
       "      <td>63</td>\n",
       "      <td>101</td>\n",
       "      <td>2</td>\n",
       "      <td>0</td>\n",
       "      <td>Married</td>\n",
       "      <td>2</td>\n",
       "      <td>52836</td>\n",
       "      <td>Inactive</td>\n",
       "      <td>118</td>\n",
       "    </tr>\n",
       "    <tr>\n",
       "      <th>2</th>\n",
       "      <td>63</td>\n",
       "      <td>Female</td>\n",
       "      <td>138</td>\n",
       "      <td>67</td>\n",
       "      <td>109</td>\n",
       "      <td>2</td>\n",
       "      <td>0</td>\n",
       "      <td>Divorced</td>\n",
       "      <td>1</td>\n",
       "      <td>54838</td>\n",
       "      <td>Inactive</td>\n",
       "      <td>90</td>\n",
       "    </tr>\n",
       "    <tr>\n",
       "      <th>3</th>\n",
       "      <td>26</td>\n",
       "      <td>Female</td>\n",
       "      <td>126</td>\n",
       "      <td>69</td>\n",
       "      <td>96</td>\n",
       "      <td>2</td>\n",
       "      <td>0</td>\n",
       "      <td>Cohabiting</td>\n",
       "      <td>1</td>\n",
       "      <td>54853</td>\n",
       "      <td>Inactive</td>\n",
       "      <td>165</td>\n",
       "    </tr>\n",
       "    <tr>\n",
       "      <th>4</th>\n",
       "      <td>67</td>\n",
       "      <td>Female</td>\n",
       "      <td>133</td>\n",
       "      <td>65</td>\n",
       "      <td>101</td>\n",
       "      <td>2</td>\n",
       "      <td>0</td>\n",
       "      <td>Single</td>\n",
       "      <td>0</td>\n",
       "      <td>24976</td>\n",
       "      <td>Inactive</td>\n",
       "      <td>86</td>\n",
       "    </tr>\n",
       "  </tbody>\n",
       "</table>\n",
       "</div>"
      ],
      "text/plain": [
       "   Age     Sex  Weight  in lbs  Height in Inch   IQ  Units of alcohol per day  \\\n",
       "0   58  Female             120              62  103                         0   \n",
       "1   45  Female             106              63  101                         2   \n",
       "2   63  Female             138              67  109                         2   \n",
       "3   26  Female             126              69   96                         2   \n",
       "4   67  Female             133              65  101                         2   \n",
       "\n",
       "   Cigarettes per day Marital Status  Additional People in household  Salary  \\\n",
       "0                   0       Divorced                               2   56588   \n",
       "1                   0        Married                               2   52836   \n",
       "2                   0       Divorced                               1   54838   \n",
       "3                   0     Cohabiting                               1   54853   \n",
       "4                   0         Single                               0   24976   \n",
       "\n",
       "     Active  Health Score (high is good)  \n",
       "0  Inactive                          150  \n",
       "1  Inactive                          118  \n",
       "2  Inactive                           90  \n",
       "3  Inactive                          165  \n",
       "4  Inactive                           86  "
      ]
     },
     "execution_count": 3,
     "metadata": {},
     "output_type": "execute_result"
    }
   ],
   "source": [
    "health_data.head()"
   ]
  },
  {
   "cell_type": "code",
   "execution_count": 4,
   "id": "b30bc7f2",
   "metadata": {},
   "outputs": [],
   "source": [
    "population_data = pd.read_csv(\"Population (2).csv\")"
   ]
  },
  {
   "cell_type": "code",
   "execution_count": 5,
   "id": "279dd987",
   "metadata": {},
   "outputs": [
    {
     "data": {
      "text/html": [
       "<div>\n",
       "<style scoped>\n",
       "    .dataframe tbody tr th:only-of-type {\n",
       "        vertical-align: middle;\n",
       "    }\n",
       "\n",
       "    .dataframe tbody tr th {\n",
       "        vertical-align: top;\n",
       "    }\n",
       "\n",
       "    .dataframe thead th {\n",
       "        text-align: right;\n",
       "    }\n",
       "</style>\n",
       "<table border=\"1\" class=\"dataframe\">\n",
       "  <thead>\n",
       "    <tr style=\"text-align: right;\">\n",
       "      <th></th>\n",
       "      <th>Person ID</th>\n",
       "      <th>Age</th>\n",
       "      <th>Sex</th>\n",
       "      <th>Weight  in lbs</th>\n",
       "      <th>Height in Inch</th>\n",
       "      <th>IQ</th>\n",
       "      <th>Units of alcohol per day</th>\n",
       "      <th>Cigarettes per day</th>\n",
       "      <th>Marital Status</th>\n",
       "      <th>Additional People in household</th>\n",
       "      <th>Salary</th>\n",
       "      <th>Active</th>\n",
       "      <th>Health Score (high is good)</th>\n",
       "    </tr>\n",
       "  </thead>\n",
       "  <tbody>\n",
       "    <tr>\n",
       "      <th>0</th>\n",
       "      <td>1</td>\n",
       "      <td>74</td>\n",
       "      <td>Male</td>\n",
       "      <td>146</td>\n",
       "      <td>74</td>\n",
       "      <td>93</td>\n",
       "      <td>0</td>\n",
       "      <td>28</td>\n",
       "      <td>Single</td>\n",
       "      <td>2</td>\n",
       "      <td>24983</td>\n",
       "      <td>Active</td>\n",
       "      <td>?</td>\n",
       "    </tr>\n",
       "    <tr>\n",
       "      <th>1</th>\n",
       "      <td>2</td>\n",
       "      <td>36</td>\n",
       "      <td>Male</td>\n",
       "      <td>158</td>\n",
       "      <td>67</td>\n",
       "      <td>101</td>\n",
       "      <td>0</td>\n",
       "      <td>0</td>\n",
       "      <td>Cohabiting</td>\n",
       "      <td>4</td>\n",
       "      <td>53407</td>\n",
       "      <td>Very Active</td>\n",
       "      <td>?</td>\n",
       "    </tr>\n",
       "    <tr>\n",
       "      <th>2</th>\n",
       "      <td>3</td>\n",
       "      <td>40</td>\n",
       "      <td>Male</td>\n",
       "      <td>160</td>\n",
       "      <td>71</td>\n",
       "      <td>100</td>\n",
       "      <td>0</td>\n",
       "      <td>0</td>\n",
       "      <td>Married</td>\n",
       "      <td>1</td>\n",
       "      <td>55433</td>\n",
       "      <td>Very Active</td>\n",
       "      <td>?</td>\n",
       "    </tr>\n",
       "    <tr>\n",
       "      <th>3</th>\n",
       "      <td>4</td>\n",
       "      <td>63</td>\n",
       "      <td>Female</td>\n",
       "      <td>117</td>\n",
       "      <td>61</td>\n",
       "      <td>98</td>\n",
       "      <td>0</td>\n",
       "      <td>0</td>\n",
       "      <td>Married</td>\n",
       "      <td>1</td>\n",
       "      <td>53571</td>\n",
       "      <td>Very Active</td>\n",
       "      <td>?</td>\n",
       "    </tr>\n",
       "    <tr>\n",
       "      <th>4</th>\n",
       "      <td>5</td>\n",
       "      <td>74</td>\n",
       "      <td>Female</td>\n",
       "      <td>156</td>\n",
       "      <td>66</td>\n",
       "      <td>97</td>\n",
       "      <td>3</td>\n",
       "      <td>0</td>\n",
       "      <td>Cohabiting</td>\n",
       "      <td>1</td>\n",
       "      <td>24911</td>\n",
       "      <td>Very Active</td>\n",
       "      <td>?</td>\n",
       "    </tr>\n",
       "  </tbody>\n",
       "</table>\n",
       "</div>"
      ],
      "text/plain": [
       "   Person ID  Age     Sex  Weight  in lbs  Height in Inch   IQ  \\\n",
       "0          1   74    Male             146              74   93   \n",
       "1          2   36    Male             158              67  101   \n",
       "2          3   40    Male             160              71  100   \n",
       "3          4   63  Female             117              61   98   \n",
       "4          5   74  Female             156              66   97   \n",
       "\n",
       "   Units of alcohol per day  Cigarettes per day Marital Status  \\\n",
       "0                         0                  28         Single   \n",
       "1                         0                   0     Cohabiting   \n",
       "2                         0                   0        Married   \n",
       "3                         0                   0        Married   \n",
       "4                         3                   0     Cohabiting   \n",
       "\n",
       "   Additional People in household  Salary       Active  \\\n",
       "0                               2   24983       Active   \n",
       "1                               4   53407  Very Active   \n",
       "2                               1   55433  Very Active   \n",
       "3                               1   53571  Very Active   \n",
       "4                               1   24911  Very Active   \n",
       "\n",
       "  Health Score (high is good)  \n",
       "0                           ?  \n",
       "1                           ?  \n",
       "2                           ?  \n",
       "3                           ?  \n",
       "4                           ?  "
      ]
     },
     "execution_count": 5,
     "metadata": {},
     "output_type": "execute_result"
    }
   ],
   "source": [
    "population_data.head()"
   ]
  },
  {
   "cell_type": "code",
   "execution_count": 6,
   "id": "672971ac",
   "metadata": {},
   "outputs": [
    {
     "data": {
      "text/plain": [
       "(5079, 12)"
      ]
     },
     "execution_count": 6,
     "metadata": {},
     "output_type": "execute_result"
    }
   ],
   "source": [
    "health_data.shape"
   ]
  },
  {
   "cell_type": "code",
   "execution_count": 7,
   "id": "df21b0e7",
   "metadata": {},
   "outputs": [
    {
     "name": "stdout",
     "output_type": "stream",
     "text": [
      "<class 'pandas.core.frame.DataFrame'>\n",
      "RangeIndex: 5079 entries, 0 to 5078\n",
      "Data columns (total 12 columns):\n",
      " #   Column                          Non-Null Count  Dtype \n",
      "---  ------                          --------------  ----- \n",
      " 0   Age                             5079 non-null   int64 \n",
      " 1   Sex                             5079 non-null   object\n",
      " 2   Weight  in lbs                  5079 non-null   int64 \n",
      " 3   Height in Inch                  5079 non-null   int64 \n",
      " 4   IQ                              5079 non-null   int64 \n",
      " 5   Units of alcohol per day        5079 non-null   int64 \n",
      " 6   Cigarettes per day              5079 non-null   int64 \n",
      " 7   Marital Status                  5079 non-null   object\n",
      " 8   Additional People in household  5079 non-null   int64 \n",
      " 9   Salary                          5079 non-null   int64 \n",
      " 10  Active                          5079 non-null   object\n",
      " 11  Health Score (high is good)     5079 non-null   int64 \n",
      "dtypes: int64(9), object(3)\n",
      "memory usage: 476.3+ KB\n"
     ]
    }
   ],
   "source": [
    "health_data.info()"
   ]
  },
  {
   "cell_type": "code",
   "execution_count": 8,
   "id": "b5983df4",
   "metadata": {},
   "outputs": [
    {
     "data": {
      "text/plain": [
       "Age                               0\n",
       "Sex                               0\n",
       "Weight  in lbs                    0\n",
       "Height in Inch                    0\n",
       "IQ                                0\n",
       "Units of alcohol per day          0\n",
       "Cigarettes per day                0\n",
       "Marital Status                    0\n",
       "Additional People in household    0\n",
       "Salary                            0\n",
       "Active                            0\n",
       "Health Score (high is good)       0\n",
       "dtype: int64"
      ]
     },
     "execution_count": 8,
     "metadata": {},
     "output_type": "execute_result"
    }
   ],
   "source": [
    "health_data.isnull().sum()"
   ]
  },
  {
   "cell_type": "code",
   "execution_count": 9,
   "id": "268da644",
   "metadata": {},
   "outputs": [
    {
     "data": {
      "text/html": [
       "<div>\n",
       "<style scoped>\n",
       "    .dataframe tbody tr th:only-of-type {\n",
       "        vertical-align: middle;\n",
       "    }\n",
       "\n",
       "    .dataframe tbody tr th {\n",
       "        vertical-align: top;\n",
       "    }\n",
       "\n",
       "    .dataframe thead th {\n",
       "        text-align: right;\n",
       "    }\n",
       "</style>\n",
       "<table border=\"1\" class=\"dataframe\">\n",
       "  <thead>\n",
       "    <tr style=\"text-align: right;\">\n",
       "      <th></th>\n",
       "      <th>count</th>\n",
       "      <th>mean</th>\n",
       "      <th>std</th>\n",
       "      <th>min</th>\n",
       "      <th>25%</th>\n",
       "      <th>50%</th>\n",
       "      <th>75%</th>\n",
       "      <th>max</th>\n",
       "    </tr>\n",
       "  </thead>\n",
       "  <tbody>\n",
       "    <tr>\n",
       "      <th>Age</th>\n",
       "      <td>5079.0</td>\n",
       "      <td>48.780075</td>\n",
       "      <td>18.219567</td>\n",
       "      <td>18.0</td>\n",
       "      <td>33.0</td>\n",
       "      <td>49.0</td>\n",
       "      <td>65.0</td>\n",
       "      <td>80.0</td>\n",
       "    </tr>\n",
       "    <tr>\n",
       "      <th>Weight  in lbs</th>\n",
       "      <td>5079.0</td>\n",
       "      <td>141.157314</td>\n",
       "      <td>25.248108</td>\n",
       "      <td>78.0</td>\n",
       "      <td>122.0</td>\n",
       "      <td>137.0</td>\n",
       "      <td>162.0</td>\n",
       "      <td>218.0</td>\n",
       "    </tr>\n",
       "    <tr>\n",
       "      <th>Height in Inch</th>\n",
       "      <td>5079.0</td>\n",
       "      <td>68.132703</td>\n",
       "      <td>4.153906</td>\n",
       "      <td>55.0</td>\n",
       "      <td>65.0</td>\n",
       "      <td>68.0</td>\n",
       "      <td>71.0</td>\n",
       "      <td>82.0</td>\n",
       "    </tr>\n",
       "    <tr>\n",
       "      <th>IQ</th>\n",
       "      <td>5079.0</td>\n",
       "      <td>100.084859</td>\n",
       "      <td>6.006863</td>\n",
       "      <td>79.0</td>\n",
       "      <td>96.0</td>\n",
       "      <td>100.0</td>\n",
       "      <td>104.0</td>\n",
       "      <td>123.0</td>\n",
       "    </tr>\n",
       "    <tr>\n",
       "      <th>Units of alcohol per day</th>\n",
       "      <td>5079.0</td>\n",
       "      <td>0.989565</td>\n",
       "      <td>1.003778</td>\n",
       "      <td>0.0</td>\n",
       "      <td>0.0</td>\n",
       "      <td>1.0</td>\n",
       "      <td>2.0</td>\n",
       "      <td>7.0</td>\n",
       "    </tr>\n",
       "    <tr>\n",
       "      <th>Cigarettes per day</th>\n",
       "      <td>5079.0</td>\n",
       "      <td>4.033668</td>\n",
       "      <td>9.567789</td>\n",
       "      <td>0.0</td>\n",
       "      <td>0.0</td>\n",
       "      <td>0.0</td>\n",
       "      <td>0.0</td>\n",
       "      <td>40.0</td>\n",
       "    </tr>\n",
       "    <tr>\n",
       "      <th>Additional People in household</th>\n",
       "      <td>5079.0</td>\n",
       "      <td>2.047844</td>\n",
       "      <td>1.228948</td>\n",
       "      <td>0.0</td>\n",
       "      <td>1.0</td>\n",
       "      <td>2.0</td>\n",
       "      <td>3.0</td>\n",
       "      <td>4.0</td>\n",
       "    </tr>\n",
       "    <tr>\n",
       "      <th>Salary</th>\n",
       "      <td>5079.0</td>\n",
       "      <td>44551.766096</td>\n",
       "      <td>14339.105462</td>\n",
       "      <td>24707.0</td>\n",
       "      <td>25058.0</td>\n",
       "      <td>54120.0</td>\n",
       "      <td>55402.0</td>\n",
       "      <td>59532.0</td>\n",
       "    </tr>\n",
       "    <tr>\n",
       "      <th>Health Score (high is good)</th>\n",
       "      <td>5079.0</td>\n",
       "      <td>171.124631</td>\n",
       "      <td>70.971637</td>\n",
       "      <td>55.0</td>\n",
       "      <td>119.0</td>\n",
       "      <td>157.0</td>\n",
       "      <td>206.0</td>\n",
       "      <td>489.0</td>\n",
       "    </tr>\n",
       "  </tbody>\n",
       "</table>\n",
       "</div>"
      ],
      "text/plain": [
       "                                 count          mean           std      min  \\\n",
       "Age                             5079.0     48.780075     18.219567     18.0   \n",
       "Weight  in lbs                  5079.0    141.157314     25.248108     78.0   \n",
       "Height in Inch                  5079.0     68.132703      4.153906     55.0   \n",
       "IQ                              5079.0    100.084859      6.006863     79.0   \n",
       "Units of alcohol per day        5079.0      0.989565      1.003778      0.0   \n",
       "Cigarettes per day              5079.0      4.033668      9.567789      0.0   \n",
       "Additional People in household  5079.0      2.047844      1.228948      0.0   \n",
       "Salary                          5079.0  44551.766096  14339.105462  24707.0   \n",
       "Health Score (high is good)     5079.0    171.124631     70.971637     55.0   \n",
       "\n",
       "                                    25%      50%      75%      max  \n",
       "Age                                33.0     49.0     65.0     80.0  \n",
       "Weight  in lbs                    122.0    137.0    162.0    218.0  \n",
       "Height in Inch                     65.0     68.0     71.0     82.0  \n",
       "IQ                                 96.0    100.0    104.0    123.0  \n",
       "Units of alcohol per day            0.0      1.0      2.0      7.0  \n",
       "Cigarettes per day                  0.0      0.0      0.0     40.0  \n",
       "Additional People in household      1.0      2.0      3.0      4.0  \n",
       "Salary                          25058.0  54120.0  55402.0  59532.0  \n",
       "Health Score (high is good)       119.0    157.0    206.0    489.0  "
      ]
     },
     "execution_count": 9,
     "metadata": {},
     "output_type": "execute_result"
    }
   ],
   "source": [
    "health_data.describe().T"
   ]
  },
  {
   "cell_type": "code",
   "execution_count": 10,
   "id": "41305fd5",
   "metadata": {},
   "outputs": [
    {
     "name": "stderr",
     "output_type": "stream",
     "text": [
      "C:\\Users\\mdfai\\AppData\\Local\\Temp\\ipykernel_32592\\1752153686.py:1: UserWarning: \n",
      "\n",
      "`distplot` is a deprecated function and will be removed in seaborn v0.14.0.\n",
      "\n",
      "Please adapt your code to use either `displot` (a figure-level function with\n",
      "similar flexibility) or `histplot` (an axes-level function for histograms).\n",
      "\n",
      "For a guide to updating your code to use the new functions, please see\n",
      "https://gist.github.com/mwaskom/de44147ed2974457ad6372750bbe5751\n",
      "\n",
      "  sns.distplot(health_data['Age'])\n"
     ]
    },
    {
     "data": {
      "text/plain": [
       "<Axes: xlabel='Age', ylabel='Density'>"
      ]
     },
     "execution_count": 10,
     "metadata": {},
     "output_type": "execute_result"
    },
    {
     "data": {
      "image/png": "[encoded data removed]",
      "text/plain": [
       "<Figure size 640x480 with 1 Axes>"
      ]
     },
     "metadata": {},
     "output_type": "display_data"
    }
   ],
   "source": [
    "sns.distplot(health_data['Age'])"
   ]
  },
  {
   "cell_type": "code",
   "execution_count": 11,
   "id": "7a7199d0",
   "metadata": {},
   "outputs": [
    {
     "data": {
      "text/plain": [
       "Female    3246\n",
       "Male      1833\n",
       "Name: Sex, dtype: int64"
      ]
     },
     "execution_count": 11,
     "metadata": {},
     "output_type": "execute_result"
    }
   ],
   "source": [
    "health_data['Sex'].value_counts()"
   ]
  },
  {
   "cell_type": "code",
   "execution_count": 12,
   "id": "373ae441",
   "metadata": {},
   "outputs": [
    {
     "data": {
      "text/plain": [
       "Married       2167\n",
       "Widowed        748\n",
       "Divorced       742\n",
       "Cohabiting     715\n",
       "Single         707\n",
       "Name: Marital Status, dtype: int64"
      ]
     },
     "execution_count": 12,
     "metadata": {},
     "output_type": "execute_result"
    }
   ],
   "source": [
    "health_data['Marital Status'].value_counts()"
   ]
  },
  {
   "cell_type": "code",
   "execution_count": 13,
   "id": "f731a450",
   "metadata": {},
   "outputs": [
    {
     "data": {
      "text/plain": [
       "Inactive       2535\n",
       "Active         1724\n",
       "Very Active     820\n",
       "Name: Active, dtype: int64"
      ]
     },
     "execution_count": 13,
     "metadata": {},
     "output_type": "execute_result"
    }
   ],
   "source": [
    "health_data['Active'].value_counts()"
   ]
  },
  {
   "cell_type": "code",
   "execution_count": 14,
   "id": "b58e8c7d",
   "metadata": {},
   "outputs": [
    {
     "data": {
      "text/plain": [
       "<seaborn.axisgrid.FacetGrid at 0x226215f0a30>"
      ]
     },
     "execution_count": 14,
     "metadata": {},
     "output_type": "execute_result"
    },
    {
     "data": {
      "image/png": "[encoded data removed]",
      "text/plain": [
       "<Figure size 500x500 with 1 Axes>"
      ]
     },
     "metadata": {},
     "output_type": "display_data"
    }
   ],
   "source": [
    "sns.displot(health_data['Salary'])"
   ]
  },
  {
   "cell_type": "code",
   "execution_count": 15,
   "id": "0ef53db3",
   "metadata": {},
   "outputs": [],
   "source": [
    "health_data[\"Sex\"] = health_data[\"Sex\"].map({\"Female\":0,\"Male\":1})\n",
    "health_data[\"Marital Status\"] = health_data[\"Marital Status\"].map({\"Married\":0,\"Widowed\":1,\"Divorced\":2,\"Cohabiting\":3,\"Single\":4})\n",
    "health_data[\"Active\"] = health_data[\"Active\"].map({\"Active\":0,\"Inactive\":1,\"Very Active\":2})"
   ]
  },
  {
   "cell_type": "code",
   "execution_count": 16,
   "id": "f61b9d05",
   "metadata": {},
   "outputs": [
    {
     "data": {
      "text/html": [
       "<div>\n",
       "<style scoped>\n",
       "    .dataframe tbody tr th:only-of-type {\n",
       "        vertical-align: middle;\n",
       "    }\n",
       "\n",
       "    .dataframe tbody tr th {\n",
       "        vertical-align: top;\n",
       "    }\n",
       "\n",
       "    .dataframe thead th {\n",
       "        text-align: right;\n",
       "    }\n",
       "</style>\n",
       "<table border=\"1\" class=\"dataframe\">\n",
       "  <thead>\n",
       "    <tr style=\"text-align: right;\">\n",
       "      <th></th>\n",
       "      <th>Age</th>\n",
       "      <th>Sex</th>\n",
       "      <th>Weight  in lbs</th>\n",
       "      <th>Height in Inch</th>\n",
       "      <th>IQ</th>\n",
       "      <th>Units of alcohol per day</th>\n",
       "      <th>Cigarettes per day</th>\n",
       "      <th>Marital Status</th>\n",
       "      <th>Additional People in household</th>\n",
       "      <th>Salary</th>\n",
       "      <th>Active</th>\n",
       "      <th>Health Score (high is good)</th>\n",
       "    </tr>\n",
       "  </thead>\n",
       "  <tbody>\n",
       "    <tr>\n",
       "      <th>0</th>\n",
       "      <td>58</td>\n",
       "      <td>0</td>\n",
       "      <td>120</td>\n",
       "      <td>62</td>\n",
       "      <td>103</td>\n",
       "      <td>0</td>\n",
       "      <td>0</td>\n",
       "      <td>2</td>\n",
       "      <td>2</td>\n",
       "      <td>56588</td>\n",
       "      <td>1</td>\n",
       "      <td>150</td>\n",
       "    </tr>\n",
       "    <tr>\n",
       "      <th>1</th>\n",
       "      <td>45</td>\n",
       "      <td>0</td>\n",
       "      <td>106</td>\n",
       "      <td>63</td>\n",
       "      <td>101</td>\n",
       "      <td>2</td>\n",
       "      <td>0</td>\n",
       "      <td>0</td>\n",
       "      <td>2</td>\n",
       "      <td>52836</td>\n",
       "      <td>1</td>\n",
       "      <td>118</td>\n",
       "    </tr>\n",
       "    <tr>\n",
       "      <th>2</th>\n",
       "      <td>63</td>\n",
       "      <td>0</td>\n",
       "      <td>138</td>\n",
       "      <td>67</td>\n",
       "      <td>109</td>\n",
       "      <td>2</td>\n",
       "      <td>0</td>\n",
       "      <td>2</td>\n",
       "      <td>1</td>\n",
       "      <td>54838</td>\n",
       "      <td>1</td>\n",
       "      <td>90</td>\n",
       "    </tr>\n",
       "    <tr>\n",
       "      <th>3</th>\n",
       "      <td>26</td>\n",
       "      <td>0</td>\n",
       "      <td>126</td>\n",
       "      <td>69</td>\n",
       "      <td>96</td>\n",
       "      <td>2</td>\n",
       "      <td>0</td>\n",
       "      <td>3</td>\n",
       "      <td>1</td>\n",
       "      <td>54853</td>\n",
       "      <td>1</td>\n",
       "      <td>165</td>\n",
       "    </tr>\n",
       "    <tr>\n",
       "      <th>4</th>\n",
       "      <td>67</td>\n",
       "      <td>0</td>\n",
       "      <td>133</td>\n",
       "      <td>65</td>\n",
       "      <td>101</td>\n",
       "      <td>2</td>\n",
       "      <td>0</td>\n",
       "      <td>4</td>\n",
       "      <td>0</td>\n",
       "      <td>24976</td>\n",
       "      <td>1</td>\n",
       "      <td>86</td>\n",
       "    </tr>\n",
       "  </tbody>\n",
       "</table>\n",
       "</div>"
      ],
      "text/plain": [
       "   Age  Sex  Weight  in lbs  Height in Inch   IQ  Units of alcohol per day  \\\n",
       "0   58    0             120              62  103                         0   \n",
       "1   45    0             106              63  101                         2   \n",
       "2   63    0             138              67  109                         2   \n",
       "3   26    0             126              69   96                         2   \n",
       "4   67    0             133              65  101                         2   \n",
       "\n",
       "   Cigarettes per day  Marital Status  Additional People in household  Salary  \\\n",
       "0                   0               2                               2   56588   \n",
       "1                   0               0                               2   52836   \n",
       "2                   0               2                               1   54838   \n",
       "3                   0               3                               1   54853   \n",
       "4                   0               4                               0   24976   \n",
       "\n",
       "   Active  Health Score (high is good)  \n",
       "0       1                          150  \n",
       "1       1                          118  \n",
       "2       1                           90  \n",
       "3       1                          165  \n",
       "4       1                           86  "
      ]
     },
     "execution_count": 16,
     "metadata": {},
     "output_type": "execute_result"
    }
   ],
   "source": [
    "health_data.head()"
   ]
  },
  {
   "cell_type": "code",
   "execution_count": 17,
   "id": "7de7cf13",
   "metadata": {},
   "outputs": [
    {
     "data": {
      "text/plain": [
       "Index(['Age', 'Sex', 'Weight  in lbs', 'Height in Inch', 'IQ',\n",
       "       'Units of alcohol per day', 'Cigarettes per day', 'Marital Status',\n",
       "       'Additional People in household', 'Salary', 'Active',\n",
       "       'Health Score (high is good)'],\n",
       "      dtype='object')"
      ]
     },
     "execution_count": 17,
     "metadata": {},
     "output_type": "execute_result"
    }
   ],
   "source": [
    "health_data.columns"
   ]
  },
  {
   "cell_type": "code",
   "execution_count": 18,
   "id": "bb927bfc",
   "metadata": {},
   "outputs": [],
   "source": [
    "male_data = health_data[health_data['Sex'] == 1]\n",
    "female_data = health_data[health_data['Sex'] == 0]"
   ]
  },
  {
   "cell_type": "code",
   "execution_count": 19,
   "id": "41699f57",
   "metadata": {},
   "outputs": [],
   "source": [
    "# Are there any significant differences between different population segments regarding their\n",
    "# lifestyle choices (for example, male and female, different age groups)?"
   ]
  },
  {
   "cell_type": "code",
   "execution_count": 20,
   "id": "1ea8a62f",
   "metadata": {},
   "outputs": [
    {
     "name": "stdout",
     "output_type": "stream",
     "text": [
      "There is a significant difference in marital status between males and females.\n"
     ]
    }
   ],
   "source": [
    "# Chi Square Test\n",
    "import scipy.stats as stats\n",
    "contingency_table = pd.crosstab(health_data['Sex'], health_data['Marital Status'])\n",
    "chi2, p_value, _, _ = stats.chi2_contingency(contingency_table)\n",
    "if p_value < 0.05:\n",
    "    print(\"There is a significant difference in marital status between males and females.\")"
   ]
  },
  {
   "cell_type": "code",
   "execution_count": 21,
   "id": "eff749ec",
   "metadata": {},
   "outputs": [
    {
     "name": "stdout",
     "output_type": "stream",
     "text": [
      "There is not a significant difference in IQ among different age groups.\n"
     ]
    }
   ],
   "source": [
    "# One-way Anova Test\n",
    "age_groups = health_data['Age'].unique()\n",
    "groups = [health_data[health_data['Age'] == age] for age in age_groups]\n",
    "f_stat, p_value = stats.f_oneway(*[group['IQ'] for group in groups])\n",
    "if p_value < 0.05:\n",
    "    print(\"There is a significant difference in IQ among different age groups.\")\n",
    "else:\n",
    "    print(\"There is not a significant difference in IQ among different age groups.\")"
   ]
  },
  {
   "cell_type": "code",
   "execution_count": 22,
   "id": "f34284c7",
   "metadata": {},
   "outputs": [],
   "source": [
    "# Which individual characteristics and lifestyle choices impact a person's health score (and to \n",
    "# what extent)?"
   ]
  },
  {
   "cell_type": "code",
   "execution_count": 23,
   "id": "1075979d",
   "metadata": {},
   "outputs": [],
   "source": [
    "independent_vars = ['Age', 'Sex', 'Height in Inch', 'IQ',\n",
    "                    'Units of alcohol per day', 'Cigarettes per day',\n",
    "                    'Marital Status', 'Additional People in household',\n",
    "                    'Salary', 'Active']\n",
    "dependent_var = 'Health Score (high is good)'"
   ]
  },
  {
   "cell_type": "code",
   "execution_count": 24,
   "id": "b9c27a96",
   "metadata": {},
   "outputs": [],
   "source": [
    "data = health_data[independent_vars + [dependent_var]].copy()"
   ]
  },
  {
   "cell_type": "code",
   "execution_count": 25,
   "id": "c0a1e661",
   "metadata": {},
   "outputs": [],
   "source": [
    "import statsmodels.api as sm\n",
    "X = data.drop(dependent_var, axis=1)\n",
    "X = sm.add_constant(X)  # Add a constant column for the intercept\n",
    "y = data[dependent_var]\n",
    "\n",
    "model = sm.OLS(y, X)\n",
    "results = model.fit()"
   ]
  },
  {
   "cell_type": "code",
   "execution_count": 26,
   "id": "d8484818",
   "metadata": {},
   "outputs": [],
   "source": [
    "# Extract the coefficients and corresponding variable names\n",
    "coefficients = results.params.drop('const')\n",
    "variable_names = coefficients.index"
   ]
  },
  {
   "cell_type": "code",
   "execution_count": 27,
   "id": "9871d605",
   "metadata": {},
   "outputs": [],
   "source": [
    "# Sort the coefficients in descending order\n",
    "sorted_indices = np.argsort(np.abs(coefficients))[::-1]\n",
    "sorted_coefficients = coefficients[sorted_indices]\n",
    "sorted_variable_names = variable_names[sorted_indices]"
   ]
  },
  {
   "cell_type": "code",
   "execution_count": 28,
   "id": "2874125a",
   "metadata": {},
   "outputs": [
    {
     "data": {
      "image/png": "[encoded data removed]",
      "text/plain": [
       "<Figure size 1000x600 with 1 Axes>"
      ]
     },
     "metadata": {},
     "output_type": "display_data"
    }
   ],
   "source": [
    "# Create a bar plot of the coefficients\n",
    "plt.figure(figsize=(10, 6))\n",
    "plt.bar(sorted_variable_names, sorted_coefficients)\n",
    "plt.xticks(rotation=90)\n",
    "plt.xlabel('Independent Variables')\n",
    "plt.ylabel('Coefficient')\n",
    "plt.title('Importance of Independent Variables')\n",
    "plt.tight_layout()\n",
    "plt.show()"
   ]
  },
  {
   "cell_type": "code",
   "execution_count": 29,
   "id": "47f42e5b",
   "metadata": {},
   "outputs": [],
   "source": [
    "# What would impact the overall population (regarding health score) if nobody consumed\n",
    "# alcohol and did not smoke?"
   ]
  },
  {
   "cell_type": "code",
   "execution_count": 30,
   "id": "369de1ff",
   "metadata": {},
   "outputs": [],
   "source": [
    "health_score_column = 'Health Score (high is good)'\n",
    "alcohol_column = 'Units of alcohol per day'\n",
    "smoking_column = 'Cigarettes per day'"
   ]
  },
  {
   "cell_type": "code",
   "execution_count": 31,
   "id": "76ac044e",
   "metadata": {},
   "outputs": [],
   "source": [
    "no_alcohol_no_smoking_health_data = health_data[(health_data[alcohol_column] == 0) & (health_data[smoking_column] == 0)].copy()"
   ]
  },
  {
   "cell_type": "code",
   "execution_count": 32,
   "id": "c688dc12",
   "metadata": {},
   "outputs": [],
   "source": [
    "# Create a copy of the DataFrame without individuals who consume alcohol or smoke\n",
    "no_alcohol_no_smoking_health = health_data[(health_data[alcohol_column] == 0) & (health_data[smoking_column] == 0)].copy()"
   ]
  },
  {
   "cell_type": "code",
   "execution_count": 33,
   "id": "bca467d6",
   "metadata": {},
   "outputs": [],
   "source": [
    "# Calculate the average health score for the entire population\n",
    "average_health_score_population = health_data[health_score_column].mean()"
   ]
  },
  {
   "cell_type": "code",
   "execution_count": 34,
   "id": "deda66eb",
   "metadata": {},
   "outputs": [],
   "source": [
    "# Calculate the average health score for the population without alcohol consumption and smoking\n",
    "average_health_score_no_alcohol_no_smoking = no_alcohol_no_smoking_health[health_score_column].mean()"
   ]
  },
  {
   "cell_type": "code",
   "execution_count": 35,
   "id": "a59ae56b",
   "metadata": {},
   "outputs": [],
   "source": [
    "# Calculate the difference in health scores between the populations\n",
    "health_score_difference = average_health_score_no_alcohol_no_smoking - average_health_score_population"
   ]
  },
  {
   "cell_type": "code",
   "execution_count": 36,
   "id": "7efcbb0a",
   "metadata": {},
   "outputs": [
    {
     "name": "stdout",
     "output_type": "stream",
     "text": [
      "Average health score without alcohol consumption and smoking: 187.17\n",
      "Average health score for the entire population: 171.12\n",
      "Difference in health scores:  16.05\n"
     ]
    }
   ],
   "source": [
    "# Print the results\n",
    "print(f\"Average health score without alcohol consumption and smoking: {average_health_score_no_alcohol_no_smoking:.2f}\")\n",
    "print(f\"Average health score for the entire population: {average_health_score_population:.2f}\")\n",
    "print(f\"Difference in health scores: {health_score_difference: .2f}\")"
   ]
  },
  {
   "cell_type": "code",
   "execution_count": 37,
   "id": "bee52095",
   "metadata": {},
   "outputs": [],
   "source": [
    "# Model Development "
   ]
  },
  {
   "cell_type": "code",
   "execution_count": 38,
   "id": "b3db3252",
   "metadata": {},
   "outputs": [],
   "source": [
    "from sklearn.linear_model import LinearRegression\n",
    "from sklearn.model_selection import train_test_split\n",
    "from sklearn.metrics import mean_squared_error"
   ]
  },
  {
   "cell_type": "code",
   "execution_count": 39,
   "id": "220c987c",
   "metadata": {},
   "outputs": [],
   "source": [
    "x = health_data.iloc[:,:-1]\n",
    "y = health_data.iloc[:,-1]"
   ]
  },
  {
   "cell_type": "code",
   "execution_count": 40,
   "id": "d843aa09",
   "metadata": {},
   "outputs": [],
   "source": [
    "x_train, x_test, y_train, y_test = train_test_split(x,y,test_size=0.3)"
   ]
  },
  {
   "cell_type": "code",
   "execution_count": 41,
   "id": "7c4ec8dc",
   "metadata": {},
   "outputs": [],
   "source": [
    "lr = LinearRegression()\n",
    "lr.fit(x_train,y_train)\n",
    "y_pred_lr = lr.predict(x_test)"
   ]
  },
  {
   "cell_type": "code",
   "execution_count": 42,
   "id": "104370de",
   "metadata": {},
   "outputs": [
    {
     "name": "stdout",
     "output_type": "stream",
     "text": [
      "Mean Squared Error of Linear Regression Model is  2078.8299120670144\n"
     ]
    }
   ],
   "source": [
    "print(\"Mean Squared Error of Linear Regression Model is \",mean_squared_error(y_test,y_pred_lr))"
   ]
  },
  {
   "cell_type": "code",
   "execution_count": 43,
   "id": "a0757317",
   "metadata": {},
   "outputs": [],
   "source": [
    "from sklearn.tree import DecisionTreeRegressor"
   ]
  },
  {
   "cell_type": "code",
   "execution_count": 44,
   "id": "145bba9d",
   "metadata": {},
   "outputs": [],
   "source": [
    "dcr = DecisionTreeRegressor()\n",
    "dcr.fit(x_train,y_train)\n",
    "y_pred_dcr = dcr.predict(x_test)"
   ]
  },
  {
   "cell_type": "code",
   "execution_count": 45,
   "id": "9ad4cc24",
   "metadata": {},
   "outputs": [
    {
     "name": "stdout",
     "output_type": "stream",
     "text": [
      "Mean Squared Error of Decision Tree Regression Model is  674.8746719160105\n"
     ]
    }
   ],
   "source": [
    "print(\"Mean Squared Error of Decision Tree Regression Model is \",mean_squared_error(y_test,y_pred_dcr))"
   ]
  },
  {
   "cell_type": "code",
   "execution_count": 46,
   "id": "592b18be",
   "metadata": {},
   "outputs": [],
   "source": [
    "from sklearn.svm import SVR"
   ]
  },
  {
   "cell_type": "code",
   "execution_count": 47,
   "id": "48005f08",
   "metadata": {},
   "outputs": [],
   "source": [
    "svr = SVR()\n",
    "svr.fit(x_train,y_train)\n",
    "y_pred_svr = svr.predict(x_test)"
   ]
  },
  {
   "cell_type": "code",
   "execution_count": 48,
   "id": "f8fd5ed4",
   "metadata": {},
   "outputs": [
    {
     "name": "stdout",
     "output_type": "stream",
     "text": [
      "Mean Squared Error of Support Vector Machine Model is  4910.725296784149\n"
     ]
    }
   ],
   "source": [
    "print(\"Mean Squared Error of Support Vector Machine Model is \",mean_squared_error(y_test,y_pred_svr))"
   ]
  },
  {
   "cell_type": "code",
   "execution_count": 49,
   "id": "eb028a90",
   "metadata": {},
   "outputs": [
    {
     "data": {
      "text/html": [
       "<div>\n",
       "<style scoped>\n",
       "    .dataframe tbody tr th:only-of-type {\n",
       "        vertical-align: middle;\n",
       "    }\n",
       "\n",
       "    .dataframe tbody tr th {\n",
       "        vertical-align: top;\n",
       "    }\n",
       "\n",
       "    .dataframe thead th {\n",
       "        text-align: right;\n",
       "    }\n",
       "</style>\n",
       "<table border=\"1\" class=\"dataframe\">\n",
       "  <thead>\n",
       "    <tr style=\"text-align: right;\">\n",
       "      <th></th>\n",
       "      <th>Person ID</th>\n",
       "      <th>Age</th>\n",
       "      <th>Sex</th>\n",
       "      <th>Weight  in lbs</th>\n",
       "      <th>Height in Inch</th>\n",
       "      <th>IQ</th>\n",
       "      <th>Units of alcohol per day</th>\n",
       "      <th>Cigarettes per day</th>\n",
       "      <th>Marital Status</th>\n",
       "      <th>Additional People in household</th>\n",
       "      <th>Salary</th>\n",
       "      <th>Active</th>\n",
       "      <th>Health Score (high is good)</th>\n",
       "    </tr>\n",
       "  </thead>\n",
       "  <tbody>\n",
       "    <tr>\n",
       "      <th>0</th>\n",
       "      <td>1</td>\n",
       "      <td>74</td>\n",
       "      <td>Male</td>\n",
       "      <td>146</td>\n",
       "      <td>74</td>\n",
       "      <td>93</td>\n",
       "      <td>0</td>\n",
       "      <td>28</td>\n",
       "      <td>Single</td>\n",
       "      <td>2</td>\n",
       "      <td>24983</td>\n",
       "      <td>Active</td>\n",
       "      <td>?</td>\n",
       "    </tr>\n",
       "    <tr>\n",
       "      <th>1</th>\n",
       "      <td>2</td>\n",
       "      <td>36</td>\n",
       "      <td>Male</td>\n",
       "      <td>158</td>\n",
       "      <td>67</td>\n",
       "      <td>101</td>\n",
       "      <td>0</td>\n",
       "      <td>0</td>\n",
       "      <td>Cohabiting</td>\n",
       "      <td>4</td>\n",
       "      <td>53407</td>\n",
       "      <td>Very Active</td>\n",
       "      <td>?</td>\n",
       "    </tr>\n",
       "    <tr>\n",
       "      <th>2</th>\n",
       "      <td>3</td>\n",
       "      <td>40</td>\n",
       "      <td>Male</td>\n",
       "      <td>160</td>\n",
       "      <td>71</td>\n",
       "      <td>100</td>\n",
       "      <td>0</td>\n",
       "      <td>0</td>\n",
       "      <td>Married</td>\n",
       "      <td>1</td>\n",
       "      <td>55433</td>\n",
       "      <td>Very Active</td>\n",
       "      <td>?</td>\n",
       "    </tr>\n",
       "    <tr>\n",
       "      <th>3</th>\n",
       "      <td>4</td>\n",
       "      <td>63</td>\n",
       "      <td>Female</td>\n",
       "      <td>117</td>\n",
       "      <td>61</td>\n",
       "      <td>98</td>\n",
       "      <td>0</td>\n",
       "      <td>0</td>\n",
       "      <td>Married</td>\n",
       "      <td>1</td>\n",
       "      <td>53571</td>\n",
       "      <td>Very Active</td>\n",
       "      <td>?</td>\n",
       "    </tr>\n",
       "    <tr>\n",
       "      <th>4</th>\n",
       "      <td>5</td>\n",
       "      <td>74</td>\n",
       "      <td>Female</td>\n",
       "      <td>156</td>\n",
       "      <td>66</td>\n",
       "      <td>97</td>\n",
       "      <td>3</td>\n",
       "      <td>0</td>\n",
       "      <td>Cohabiting</td>\n",
       "      <td>1</td>\n",
       "      <td>24911</td>\n",
       "      <td>Very Active</td>\n",
       "      <td>?</td>\n",
       "    </tr>\n",
       "  </tbody>\n",
       "</table>\n",
       "</div>"
      ],
      "text/plain": [
       "   Person ID  Age     Sex  Weight  in lbs  Height in Inch   IQ  \\\n",
       "0          1   74    Male             146              74   93   \n",
       "1          2   36    Male             158              67  101   \n",
       "2          3   40    Male             160              71  100   \n",
       "3          4   63  Female             117              61   98   \n",
       "4          5   74  Female             156              66   97   \n",
       "\n",
       "   Units of alcohol per day  Cigarettes per day Marital Status  \\\n",
       "0                         0                  28         Single   \n",
       "1                         0                   0     Cohabiting   \n",
       "2                         0                   0        Married   \n",
       "3                         0                   0        Married   \n",
       "4                         3                   0     Cohabiting   \n",
       "\n",
       "   Additional People in household  Salary       Active  \\\n",
       "0                               2   24983       Active   \n",
       "1                               4   53407  Very Active   \n",
       "2                               1   55433  Very Active   \n",
       "3                               1   53571  Very Active   \n",
       "4                               1   24911  Very Active   \n",
       "\n",
       "  Health Score (high is good)  \n",
       "0                           ?  \n",
       "1                           ?  \n",
       "2                           ?  \n",
       "3                           ?  \n",
       "4                           ?  "
      ]
     },
     "execution_count": 49,
     "metadata": {},
     "output_type": "execute_result"
    }
   ],
   "source": [
    "population_data.head()"
   ]
  },
  {
   "cell_type": "code",
   "execution_count": 50,
   "id": "d1acff22",
   "metadata": {},
   "outputs": [],
   "source": [
    "import pickle\n",
    "filename = 'decision_tree_trained_model.pkl'\n",
    "pickle.dump(model, open(filename, 'wb'))\n",
    "decision_tree_model = pickle.load(open('decision_tree_trained_model.pkl', 'rb'))"
   ]
  },
  {
   "cell_type": "code",
   "execution_count": 51,
   "id": "26ca8b92",
   "metadata": {},
   "outputs": [],
   "source": [
    "new_data_features = population_data.drop(['Person ID','Health Score (high is good)'], axis=1)"
   ]
  },
  {
   "cell_type": "code",
   "execution_count": 52,
   "id": "13cc25b3",
   "metadata": {},
   "outputs": [
    {
     "data": {
      "text/html": [
       "<div>\n",
       "<style scoped>\n",
       "    .dataframe tbody tr th:only-of-type {\n",
       "        vertical-align: middle;\n",
       "    }\n",
       "\n",
       "    .dataframe tbody tr th {\n",
       "        vertical-align: top;\n",
       "    }\n",
       "\n",
       "    .dataframe thead th {\n",
       "        text-align: right;\n",
       "    }\n",
       "</style>\n",
       "<table border=\"1\" class=\"dataframe\">\n",
       "  <thead>\n",
       "    <tr style=\"text-align: right;\">\n",
       "      <th></th>\n",
       "      <th>Age</th>\n",
       "      <th>Sex</th>\n",
       "      <th>Weight  in lbs</th>\n",
       "      <th>Height in Inch</th>\n",
       "      <th>IQ</th>\n",
       "      <th>Units of alcohol per day</th>\n",
       "      <th>Cigarettes per day</th>\n",
       "      <th>Marital Status</th>\n",
       "      <th>Additional People in household</th>\n",
       "      <th>Salary</th>\n",
       "      <th>Active</th>\n",
       "    </tr>\n",
       "  </thead>\n",
       "  <tbody>\n",
       "    <tr>\n",
       "      <th>0</th>\n",
       "      <td>74</td>\n",
       "      <td>Male</td>\n",
       "      <td>146</td>\n",
       "      <td>74</td>\n",
       "      <td>93</td>\n",
       "      <td>0</td>\n",
       "      <td>28</td>\n",
       "      <td>Single</td>\n",
       "      <td>2</td>\n",
       "      <td>24983</td>\n",
       "      <td>Active</td>\n",
       "    </tr>\n",
       "    <tr>\n",
       "      <th>1</th>\n",
       "      <td>36</td>\n",
       "      <td>Male</td>\n",
       "      <td>158</td>\n",
       "      <td>67</td>\n",
       "      <td>101</td>\n",
       "      <td>0</td>\n",
       "      <td>0</td>\n",
       "      <td>Cohabiting</td>\n",
       "      <td>4</td>\n",
       "      <td>53407</td>\n",
       "      <td>Very Active</td>\n",
       "    </tr>\n",
       "    <tr>\n",
       "      <th>2</th>\n",
       "      <td>40</td>\n",
       "      <td>Male</td>\n",
       "      <td>160</td>\n",
       "      <td>71</td>\n",
       "      <td>100</td>\n",
       "      <td>0</td>\n",
       "      <td>0</td>\n",
       "      <td>Married</td>\n",
       "      <td>1</td>\n",
       "      <td>55433</td>\n",
       "      <td>Very Active</td>\n",
       "    </tr>\n",
       "    <tr>\n",
       "      <th>3</th>\n",
       "      <td>63</td>\n",
       "      <td>Female</td>\n",
       "      <td>117</td>\n",
       "      <td>61</td>\n",
       "      <td>98</td>\n",
       "      <td>0</td>\n",
       "      <td>0</td>\n",
       "      <td>Married</td>\n",
       "      <td>1</td>\n",
       "      <td>53571</td>\n",
       "      <td>Very Active</td>\n",
       "    </tr>\n",
       "    <tr>\n",
       "      <th>4</th>\n",
       "      <td>74</td>\n",
       "      <td>Female</td>\n",
       "      <td>156</td>\n",
       "      <td>66</td>\n",
       "      <td>97</td>\n",
       "      <td>3</td>\n",
       "      <td>0</td>\n",
       "      <td>Cohabiting</td>\n",
       "      <td>1</td>\n",
       "      <td>24911</td>\n",
       "      <td>Very Active</td>\n",
       "    </tr>\n",
       "  </tbody>\n",
       "</table>\n",
       "</div>"
      ],
      "text/plain": [
       "   Age     Sex  Weight  in lbs  Height in Inch   IQ  Units of alcohol per day  \\\n",
       "0   74    Male             146              74   93                         0   \n",
       "1   36    Male             158              67  101                         0   \n",
       "2   40    Male             160              71  100                         0   \n",
       "3   63  Female             117              61   98                         0   \n",
       "4   74  Female             156              66   97                         3   \n",
       "\n",
       "   Cigarettes per day Marital Status  Additional People in household  Salary  \\\n",
       "0                  28         Single                               2   24983   \n",
       "1                   0     Cohabiting                               4   53407   \n",
       "2                   0        Married                               1   55433   \n",
       "3                   0        Married                               1   53571   \n",
       "4                   0     Cohabiting                               1   24911   \n",
       "\n",
       "        Active  \n",
       "0       Active  \n",
       "1  Very Active  \n",
       "2  Very Active  \n",
       "3  Very Active  \n",
       "4  Very Active  "
      ]
     },
     "execution_count": 52,
     "metadata": {},
     "output_type": "execute_result"
    }
   ],
   "source": [
    "new_data_features.head()"
   ]
  },
  {
   "cell_type": "code",
   "execution_count": 53,
   "id": "d2c323ea",
   "metadata": {},
   "outputs": [],
   "source": [
    "new_data_features[\"Sex\"] = new_data_features[\"Sex\"].map({\"Female\":0,\"Male\":1})\n",
    "new_data_features[\"Marital Status\"] = new_data_features[\"Marital Status\"].map({\"Married\":0,\"Widowed\":1,\"Divorced\":2,\"Cohabiting\":3,\"Single\":4})\n",
    "new_data_features[\"Active\"] = new_data_features[\"Active\"].map({\"Active\":0,\"Inactive\":1,\"Very Active\":2})"
   ]
  },
  {
   "cell_type": "code",
   "execution_count": 58,
   "id": "2086abbd",
   "metadata": {},
   "outputs": [
    {
     "data": {
      "text/plain": [
       "11"
      ]
     },
     "execution_count": 58,
     "metadata": {},
     "output_type": "execute_result"
    }
   ],
   "source": [
    "new_data_features.shape[1]"
   ]
  },
  {
   "cell_type": "code",
   "execution_count": 65,
   "id": "a0855f95",
   "metadata": {},
   "outputs": [
    {
     "data": {
      "text/plain": [
       "array([1.41375232e+09, 1.32001597e+09, 1.37003300e+09, ...,\n",
       "       6.23564409e+08, 1.34722293e+09, 6.27762043e+08])"
      ]
     },
     "execution_count": 65,
     "metadata": {},
     "output_type": "execute_result"
    }
   ],
   "source": [
    "decision_tree_model.predict(new_data_features.iloc[0])"
   ]
  },
  {
   "cell_type": "code",
   "execution_count": null,
   "id": "98f170d1",
   "metadata": {},
   "outputs": [],
   "source": []
  }
 ],
 "metadata": {
  "kernelspec": {
   "display_name": "Python 3 (ipykernel)",
   "language": "python",
   "name": "python3"
  },
  "language_info": {
   "codemirror_mode": {
    "name": "ipython",
    "version": 3
   },
   "file_extension": ".py",
   "mimetype": "text/x-python",
   "name": "python",
   "nbconvert_exporter": "python",
   "pygments_lexer": "ipython3",
   "version": "3.9.7"
  }
 },
 "nbformat": 4,
 "nbformat_minor": 5
}
